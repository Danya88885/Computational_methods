{
 "cells": [
  {
   "cell_type": "code",
   "execution_count": null,
   "id": "239164d0-150d-4aaa-8689-9a415196455b",
   "metadata": {},
   "outputs": [],
   "source": [
    "import numpy as np\n",
    "import matplotlib.pyplot as plt\n",
    "import time"
   ]
  },
  {
   "cell_type": "code",
   "execution_count": null,
   "id": "a3b3aba7-5520-4e2e-b26b-ab48b65a8c71",
   "metadata": {},
   "outputs": [],
   "source": [
    "def func(x):\n",
    "    return np.exp(x)*(x**2)*(1 - x)**2"
   ]
  },
  {
   "cell_type": "code",
   "execution_count": null,
   "id": "5c6a9d26-ee2d-40de-a444-5d1d2c400bea",
   "metadata": {},
   "outputs": [],
   "source": [
    "def ddddfunc(x):\n",
    "    return np.exp(x)*(x**4 + 14*x**3 + 49*x**2 + 32*x - 12)"
   ]
  },
  {
   "cell_type": "code",
   "execution_count": null,
   "id": "2d172dc8-8b7f-45cb-8de6-b839636b9a88",
   "metadata": {},
   "outputs": [],
   "source": [
    "def get_matrix_u(u):\n",
    "    size = len(u)\n",
    "    matrix = np.zeros((size, size), dtype='float64')\n",
    "    for row in range(size):\n",
    "        for col in range(size):\n",
    "            matrix[row, col] = 2*u[row]*u[col]\n",
    "    return np.eye(size, dtype='float64') - matrix"
   ]
  },
  {
   "cell_type": "code",
   "execution_count": null,
   "id": "42c89ba8-d269-42ab-bd29-1a56a3236404",
   "metadata": {},
   "outputs": [],
   "source": [
    "def qr_haus(a):\n",
    "    size_row, size_col = a.shape\n",
    "    r = a.copy()\n",
    "    qt = np.eye(size_row, dtype='float64')\n",
    "    haus = np.zeros(size_row, dtype='float64')\n",
    "    for col in range(size_col - 1):\n",
    "        haus[col:] = r[col:, col].copy()\n",
    "        haus[col] -= np.linalg.norm(r[col:, col], 2)\n",
    "        haus = haus / np.linalg.norm(haus, 2)\n",
    "        if np.any(haus):\n",
    "            haus_matrix = get_matrix_u(haus)\n",
    "            r = haus_matrix.dot(r)\n",
    "            qt = haus_matrix.dot(qt)\n",
    "        haus[col] = 0\n",
    "    return r, qt"
   ]
  },
  {
   "cell_type": "code",
   "execution_count": null,
   "id": "61195497-7ad2-4364-86e0-d5211828d31d",
   "metadata": {},
   "outputs": [],
   "source": [
    "def approx(y, arr):\n",
    "    res = sum(arr[i] * y ** i for i in range(len(arr)))\n",
    "    return res\n",
    "\n",
    "\n",
    "def dapprox(y, arr):\n",
    "    res = sum(arr[i]*i*y**(i - 1) for i in range(1, len(arr)))\n",
    "    return res\n",
    "\n",
    "\n",
    "def ddapprox(y, arr):\n",
    "    res = sum(arr[i]*i*(i - 1)*y**(i - 2) for i in range(2, len(arr)))\n",
    "    return res\n",
    "\n",
    "\n",
    "def dddapprox(y, arr):\n",
    "    res = sum(arr[i]*i*(i - 1)*(i - 2)*y**(i - 3) for i in range(3, len(arr)))\n",
    "    return res"
   ]
  },
  {
   "cell_type": "code",
   "execution_count": null,
   "id": "3a045b31-7858-49d2-b625-f884d8b558c9",
   "metadata": {},
   "outputs": [],
   "source": [
    "def get_matrix():\n",
    "    \"\"\"Возвращает матрицы СЛАУ для первой, внутренней и последней ячеек.\"\"\"\n",
    "    first = np.zeros((9, 5), dtype='float64')  # Матрица для первой ячейки\n",
    "    a = np.zeros((9, 5), dtype='float64')  # Матрица для внутренней ячейки\n",
    "    last = np.zeros((9, 5), dtype='float64')  # Матрица для последней ячейки\n",
    "    # Заполняем матрицу в левой точке y = -1. Для матриц a, last будет просто согласование условий.\n",
    "    # Для матрицы first будет граничное условие.\n",
    "    a[0, 0] = last[0, 0] = first[0, 0] = 1\n",
    "    for i in range(1, 5):\n",
    "        a[0, i] = last[0, i] = (-1) ** i - i * (-1) ** (i - 1)\n",
    "        first[0, i] = (-1) ** i\n",
    "\n",
    "    # Далее для a, last заполняется условие для вторых и третьих производных.\n",
    "    # Для first будет заполняться граничное условие для первой производной.\n",
    "    a[1, 0] = a[1, 1] = last[1, 0] = last[1, 1] = first[1, 0] = 0\n",
    "    a[1, 2] = last[1, 2] = 2\n",
    "    first[1, 1] = 1\n",
    "    first[1, 2] = -2\n",
    "\n",
    "    for i in range(3, 5):\n",
    "        a[1, i] = last[1, i] = i * (i - 1) * (-1) ** (i - 2) - i * (i - 1) * (i - 2) * (-1) ** (i - 3)\n",
    "        first[1, i] = i * (-1) ** (i - 1)\n",
    "\n",
    "    # Заполняем все три матрицы в узлах коллокации.\n",
    "    for i in range(2, 7):\n",
    "        for t in range(4):\n",
    "            a[i, t] = last[i, t] = first[i, t] = 0\n",
    "        a[i, 4] = last[i, 4] = first[i, 4] = 24\n",
    "\n",
    "    # Далее заполняются условия в точке y = 1. Для first, a заполняются условия согласования.\n",
    "    # Для last заполняются краевые условия в этой точке.\n",
    "\n",
    "    a[7, 0] = first[7, 0] = last[7, 0] = 1\n",
    "    for i in range(1, 5):\n",
    "        a[7, i] = first[7, i] = 1 + i\n",
    "        last[7, i] = 1\n",
    "    # Далее заполняем для a, first условия согласования вторых и третьих производных.\n",
    "    # Для last заполням краевое условие на первую производную.\n",
    "    a[8, 0] = a[8, 1] = first[8, 0] = first[8, 1] = last[8, 0] = 0\n",
    "    a[8, 2] = first[8, 2] = 2\n",
    "    last[8, 1] = 1\n",
    "    last[8, 2] = 2\n",
    "    for i in range(3, 5):\n",
    "        a[8, i] = first[8, i] = i * (i - 1) + i * (i - 1) * (i - 2)\n",
    "        last[8, i] = i\n",
    "    return first, a, last\n"
   ]
  },
  {
   "cell_type": "code",
   "execution_count": null,
   "id": "7aa13e31-0794-4474-9858-b33e4bbe3129",
   "metadata": {},
   "outputs": [],
   "source": [
    "def get_solve_first(r, qt, solve_right, length):\n",
    "    \"\"\"Даёт решение в первой ячейке. Length - длина ячейки, solve_right - решение справа.\"\"\"\n",
    "    solve = np.zeros(5, dtype='float64')\n",
    "    right = np.zeros(9, dtype='float64')\n",
    "    right[0] = right[1] = 0\n",
    "    xc, h, hh = length / 2, length / 2, 1.0 / 3\n",
    "    y = hh - 1.0\n",
    "    for i in range(2, 7):\n",
    "        right[i] = ddddfunc(xc + y*h)*h**4\n",
    "        y += hh\n",
    "    right[7] = approx(-1, solve_right) + dapprox(-1, solve_right)\n",
    "    right[8] = ddapprox(-1, solve_right) + dddapprox(-1, solve_right)\n",
    "    right = qt.dot(right)\n",
    "    # Обратный ход Гаусса.\n",
    "    for row in range(4, -1, -1):\n",
    "        solve[row] = (right[row] - sum(solve[col] * r[row, col] for col in range(row + 1, 5))) / r[row, row]\n",
    "    return solve"
   ]
  },
  {
   "cell_type": "code",
   "execution_count": null,
   "id": "4f5296a8-dc89-4906-8b10-85814c978969",
   "metadata": {},
   "outputs": [],
   "source": [
    "def get_solve_first(r, qt, solve_right, length):\n",
    "    \"\"\"Даёт решение в первой ячейке. Length - длина ячейки, solve_right - решение справа.\"\"\"\n",
    "    solve = np.zeros(5, dtype='float64')\n",
    "    right = np.zeros(9, dtype='float64')\n",
    "    right[0] = right[1] = 0\n",
    "    xc, h, hh = length / 2, length / 2, 1.0 / 3\n",
    "    y = hh - 1.0\n",
    "    for i in range(2, 7):\n",
    "        right[i] = ddddfunc(xc + y*h)*h**4\n",
    "        y += hh\n",
    "    right[7] = approx(-1, solve_right) + dapprox(-1, solve_right)\n",
    "    right[8] = ddapprox(-1, solve_right) + dddapprox(-1, solve_right)\n",
    "    right = qt.dot(right)\n",
    "    # Обратный ход Гаусса.\n",
    "    for row in range(4, -1, -1):\n",
    "        solve[row] = (right[row] - sum(solve[col] * r[row, col] for col in range(row + 1, 5))) / r[row, row]\n",
    "    return solve"
   ]
  },
  {
   "cell_type": "code",
   "execution_count": null,
   "id": "2292a898-1cf0-4bc3-9194-0f8e3dfc1ffc",
   "metadata": {},
   "outputs": [],
   "source": [
    "def get_solve_mid(r, qt, solve_left, solve_right, cell, length):\n",
    "    \"\"\"Даёт решение в промежуточной ячейке. Cell - номер ячейки.\n",
    "    Solve_left, solve_right - решения слева и справа.\"\"\"\n",
    "    solve = np.zeros(5, dtype='float64')\n",
    "    right = np.zeros(9, dtype='float64')\n",
    "    # Выписываем условия согласования слева, т.е. в точке -1.\n",
    "    right[0] = approx(1, solve_left) - dapprox(1, solve_left)\n",
    "    right[1] = ddapprox(1, solve_left) - dddapprox(1, solve_left)\n",
    "\n",
    "    h, hh = length / 2, 1.0 / 3\n",
    "    y = hh - 1.0\n",
    "    xc = length * cell + length / 2\n",
    "    for i in range(2, 7):\n",
    "        right[i] = ddddfunc(xc + y * h) * h ** 4\n",
    "        y += hh\n",
    "    right[7] = approx(-1, solve_right) + dapprox(-1, solve_right)\n",
    "    right[8] = ddapprox(-1, solve_right) + dddapprox(-1, solve_right)\n",
    "\n",
    "    right = qt.dot(right)\n",
    "    # Обратный ход Гаусса.\n",
    "    for row in range(4, -1, -1):\n",
    "        solve[row] = (right[row] - sum(solve[col] * r[row, col] for col in range(row + 1, 5))) / r[row, row]\n",
    "    return solve\n"
   ]
  },
  {
   "cell_type": "code",
   "execution_count": null,
   "id": "b5217bea-c622-46c3-96cb-9313a4e17acb",
   "metadata": {},
   "outputs": [],
   "source": [
    "def get_solve_last(r, qt, solve_left, length):\n",
    "    \"\"\"Даёт решение в последней ячейке. Length - длина ячейки, solve_left - решение слева.\"\"\"\n",
    "    solve = np.zeros(5, dtype='float64')\n",
    "    right = np.zeros(9, dtype='float64')\n",
    "    # Выписываем условия согласования слева, т.е. в точке -1.\n",
    "    right[0] = approx(1, solve_left) - dapprox(1, solve_left)\n",
    "    right[1] = ddapprox(1, solve_left) - dddapprox(1, solve_left)\n",
    "    h, hh = length / 2, 1.0 / 3\n",
    "    y = hh - 1.0\n",
    "    xc = 1 - h\n",
    "    for i in range(2, 7):\n",
    "        right[i] = ddddfunc(xc + y * h) * h ** 4\n",
    "        y += hh\n",
    "    right[7] = right[8] = 0\n",
    "    right = qt.dot(right)\n",
    "    # Обратный ход Гаусса.\n",
    "    for row in range(4, -1, -1):\n",
    "        solve[row] = (right[row] - sum(solve[col] * r[row, col] for col in range(row + 1, 5))) / r[row, row]\n",
    "    return solve"
   ]
  },
  {
   "cell_type": "code",
   "execution_count": null,
   "id": "a5f0d9db-8cf2-4864-8b1b-b9a036ace322",
   "metadata": {},
   "outputs": [],
   "source": [
    "def get_info(cell, coef, length):\n",
    "    \"\"\"Возвращает относительную и абсолютную погрешности. Также возврощает 3 списка для рисования графиков,\n",
    "    cell - количество ячеек.\"\"\"\n",
    "    err = den = 0\n",
    "    hh, h = 2.0 / 99, length / 2\n",
    "    lst_x = []\n",
    "    lst_func = []\n",
    "    lst_appr = []\n",
    "    for number in range(cell):\n",
    "        y, xc = -1 + hh, number * length + h\n",
    "        for i in range(99):\n",
    "            lst_x.append(xc + y*h)\n",
    "            lst_func.append(func(lst_x[-1]))\n",
    "            lst_appr.append(approx(y, coef[number]))\n",
    "\n",
    "            test = np.abs(lst_func[-1] - lst_appr[-1])\n",
    "            if test > err:\n",
    "                err = test\n",
    "\n",
    "            test = np.abs(lst_func[-1])\n",
    "            if test > den:\n",
    "                den = test\n",
    "            y += hh\n",
    "    return err / den, err, lst_x, lst_func, lst_appr"
   ]
  },
  {
   "cell_type": "code",
   "execution_count": null,
   "id": "225c02df-d6d1-46dc-ad0d-a79866d74c8a",
   "metadata": {},
   "outputs": [],
   "source": [
    "def all_plot(lst_x, lst_f, lst_appr, cell):\n",
    "    plt.plot(lst_x, lst_f, label='Приближаемая функция')\n",
    "    plt.plot(lst_x, lst_appr, label= 'Аппроксимант')\n",
    "    plt.legend()\n",
    "    plt.xlabel('x', fontsize=11)\n",
    "    plt.ylabel('y', fontsize=11)\n",
    "    plt.title('Результаты аппроксимации при K = %i' % cell)\n",
    "    plt.grid()\n",
    "    plt.show()"
   ]
  },
  {
   "cell_type": "code",
   "execution_count": 18,
   "id": "aa959a5c-0247-4191-a2c2-0d03edc41f6c",
   "metadata": {},
   "outputs": [
    {
     "data": {
      "image/png": "[encoded data removed]",
      "text/plain": [
       "<Figure size 432x288 with 1 Axes>"
      ]
     },
     "metadata": {
      "needs_background": "light"
     },
     "output_type": "display_data"
    },
    {
     "name": "stdout",
     "output_type": "stream",
     "text": [
      "2.607614005598058e-06\n",
      "2.453286260818171e-05\n",
      "56414\n",
      "\n",
      " \n",
      "\n",
      "Порядок абсолютной погрешности: 2.009587\n",
      "Порядок относительной погрешности: 2.008335\n"
     ]
    }
   ],
   "source": [
    "left, mid, dexter = get_matrix()\n",
    "R_left, Qt_left = qr_haus(left)\n",
    "R_mid, Qt_mid = qr_haus(mid)\n",
    "R_dex, Qt_dex = qr_haus(dexter)\n",
    "pseudo_err = 10**(-12)\n",
    "err_old = 1\n",
    "rel_err_old = 1\n",
    "lst_fo_pse = []\n",
    "lst_fo_it = []\n",
    "\n",
    "\n",
    "for k in 160,:\n",
    "    coef_new = np.full((k, 5), 0.4)\n",
    "    coef_old = np.full((k, 5), 0.4)\n",
    "    step = 1.0 / k  # длина ячейки\n",
    "    count = 0  # число итераций\n",
    "    start_time = time.time()\n",
    "    while True:\n",
    "        coef_new[0] = get_solve_first(R_left, Qt_left, coef_old[1], step)\n",
    "        for j in range(1, k - 1):\n",
    "            coef_new[j] = get_solve_mid(R_mid, Qt_mid, coef_new[j - 1], coef_old[j + 1], j, step)\n",
    "        coef_new[k - 1] = get_solve_last(R_dex, Qt_dex, coef_new[k - 2], step)\n",
    "        lst_fo_pse.append(np.max(np.abs(coef_new - coef_old)))\n",
    "        lst_fo_it.append(count + 1)\n",
    "        if lst_fo_pse[-1] < pseudo_err:\n",
    "            break\n",
    "        coef_old = coef_new.copy()\n",
    "        count += 1\n",
    "    rel_err, err_new, data_x, data_f, data_ap = get_info(k, coef_new, step)\n",
    "    all_plot(data_x, data_f, data_ap, k)\n",
    "    err_old, rel_err_old = err_new, rel_err\n",
    "    print(err_new)\n",
    "    print(rel_err)\n",
    "    print(count)\n",
    "    # print(time.time() - start_time)\n",
    "    print('\\n \\n')\n",
    "    print('Порядок абсолютной погрешности: %f' % abs(np.log2(0.0000105 / err_new)), end='\\n')\n",
    "    print('Порядок относительной погрешности: %f' % abs(np.log2(0.0000987 / rel_err)), end='\\n')\n",
    "\n"
   ]
  },
  {
   "cell_type": "code",
   "execution_count": 15,
   "id": "9c215840-6826-44a1-9c25-704778c47492",
   "metadata": {},
   "outputs": [
    {
     "name": "stdout",
     "output_type": "stream",
     "text": [
      "Обусловленность матрицы СЛАУ в первой ячейке: 69.765386\n",
      "Обусловленность матрицы СЛАУ в промежуточной ячейке: 121.053755\n",
      "Обусловленность матрицы СЛАУ в последней ячейке: 69.765386\n"
     ]
    },
    {
     "data": {
      "image/png": "[encoded data removed]",
      "text/plain": [
       "<Figure size 432x288 with 1 Axes>"
      ]
     },
     "metadata": {
      "needs_background": "light"
     },
     "output_type": "display_data"
    }
   ],
   "source": [
    "print('Обусловленность матрицы СЛАУ в первой ячейке: %f' % np.linalg.cond(left, 2))\n",
    "print('Обусловленность матрицы СЛАУ в промежуточной ячейке: %f' % np.linalg.cond(mid, 2))\n",
    "print('Обусловленность матрицы СЛАУ в последней ячейке: %f' % np.linalg.cond(dexter, 2))\n",
    "\n",
    "lst_fo_pse = np.log10(np.array(lst_fo_pse))\n",
    "\n",
    "plt.plot(lst_fo_it, lst_fo_pse)\n",
    "plt.xlabel('Число итераций', fontsize=11)\n",
    "plt.ylabel('Псевдопогрешнсть', fontsize=11)\n",
    "plt.title('Зависимость логарифма псевдопо-ти от числа итераций при K = 40.')\n",
    "plt.grid()\n",
    "plt.show()\n"
   ]
  },
  {
   "cell_type": "code",
   "execution_count": null,
   "id": "3104edef-d78e-4d63-9571-e85fe16ca743",
   "metadata": {},
   "outputs": [],
   "source": []
  }
 ],
 "metadata": {
  "kernelspec": {
   "display_name": "Python 3",
   "language": "python",
   "name": "python3"
  },
  "language_info": {
   "codemirror_mode": {
    "name": "ipython",
    "version": 3
   },
   "file_extension": ".py",
   "mimetype": "text/x-python",
   "name": "python",
   "nbconvert_exporter": "python",
   "pygments_lexer": "ipython3",
   "version": "3.9.0"
  }
 },
 "nbformat": 4,
 "nbformat_minor": 5
}
